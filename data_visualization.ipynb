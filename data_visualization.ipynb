{
  "nbformat": 4,
  "nbformat_minor": 0,
  "metadata": {
    "colab": {
      "provenance": [],
      "authorship_tag": "ABX9TyPj955SyFdFfMhFO6UbQKUf",
      "include_colab_link": true
    },
    "kernelspec": {
      "name": "python3",
      "display_name": "Python 3"
    },
    "language_info": {
      "name": "python"
    }
  },
  "cells": [
    {
      "cell_type": "markdown",
      "metadata": {
        "id": "view-in-github",
        "colab_type": "text"
      },
      "source": [
        "<a href=\"https://colab.research.google.com/github/jumpingsphinx/loan_data/blob/main/data_visualization.ipynb\" target=\"_parent\"><img src=\"https://colab.research.google.com/assets/colab-badge.svg\" alt=\"Open In Colab\"/></a>"
      ]
    },
    {
      "cell_type": "code",
      "execution_count": null,
      "metadata": {
        "id": "6B0zx__k43Pz"
      },
      "outputs": [],
      "source": [
        "import numpy as np\n",
        "import pandas as pd\n",
        "import matplotlib.pyplot as plt\n",
        "from mpl_toolkits.mplot3d import Axes3D\n",
        "import plotly.express as px\n",
        "import plotly.graph_objects as go\n",
        "import scipy.stats as stats\n",
        "import seaborn as sns"
      ]
    },
    {
      "cell_type": "code",
      "source": [
        "# Read the data\n",
        "df = pd.read_csv(r\"C:\\Users\\ashwi\\Downloads\\loan_data.csv\")\n",
        "df.head(10)"
      ],
      "metadata": {
        "id": "aqzVbjo_45QV"
      },
      "execution_count": null,
      "outputs": []
    },
    {
      "cell_type": "code",
      "source": [
        "# Process money amounts by stripping dollar signs, one-hot encode categorical variables\n",
        "df['CHARGE_OFF_AMOUNT'] = df['CHARGE_OFF_AMOUNT'].str.replace('[\\$,\\s]', '', regex=True).astype(float)\n",
        "df['DISBURSEMENT_AMOUNT'] = df['DISBURSEMENT_AMOUNT'].str.replace('[\\$,\\s]', '', regex=True).astype(float)\n",
        "df['LOAN_AMOUNT'] = df['LOAN_AMOUNT'].str.replace('[\\$,\\s]', '', regex=True).astype(float)\n",
        "df['IS_LOW_DOC'] = df['IS_LOW_DOC'].replace({'Y': 1, 'N': 0})\n",
        "df['IS_NEW'] = df['IS_NEW'].replace({'Y': 1, 'N': 0})\n",
        "df['APPROVAL_YEAR'] = df['APPROVAL_YEAR'].astype(str)\n",
        "df['APPROVAL_YEAR'] = df['APPROVAL_YEAR'].str.replace(r'[^0-9]', '', regex=True).astype(int)"
      ],
      "metadata": {
        "id": "7pK-Xe-346ph"
      },
      "execution_count": null,
      "outputs": []
    },
    {
      "cell_type": "code",
      "source": [
        "def plot_3d_scatter(df, col1, col2, col3, sample_size=10000):\n",
        "    \"\"\"\n",
        "    Create an interactive 3D scatter plot using Plotly.\n",
        "\n",
        "    Parameters:\n",
        "    df (pandas.DataFrame): Input DataFrame\n",
        "    col1 (str): Name of the first column (x-axis)\n",
        "    col2 (str): Name of the second column (y-axis)\n",
        "    col3 (str): Name of the third column (z-axis)\n",
        "    sample_size (int): Number of points to plot (default 10000)\n",
        "    \"\"\"\n",
        "    # Sample the dataframe if it's larger than sample_size\n",
        "    if len(df) > sample_size:\n",
        "        df_sample = df.sample(n=sample_size, random_state=42)\n",
        "    else:\n",
        "        df_sample = df\n",
        "\n",
        "    fig = px.scatter_3d(df_sample,\n",
        "                        x=col1,\n",
        "                        y=col2,\n",
        "                        z=col3,\n",
        "                        title=f'Interactive 3D Scatter Plot (Showing {sample_size:,} samples from {len(df):,} total points)')\n",
        "\n",
        "    # Update marker size and opacity\n",
        "    fig.update_traces(marker=dict(size=3,\n",
        "                                opacity=0.6))\n",
        "\n",
        "    # Improve the layout\n",
        "    fig.update_layout(\n",
        "        scene = dict(\n",
        "            xaxis_title=col1,\n",
        "            yaxis_title=col2,\n",
        "            zaxis_title=col3\n",
        "        )\n",
        "    )\n",
        "\n",
        "    fig.show()\n",
        "\n",
        "\n",
        "\n",
        "def plot_2d_scatter(df, col1, col2, sample_size=10000):\n",
        "    \"\"\"\n",
        "    Create an interactive 2D scatter plot using Plotly with sorted data.\n",
        "\n",
        "    Parameters:\n",
        "    df (pandas.DataFrame): Input DataFrame\n",
        "    col1 (str): Name of the first column (x-axis)\n",
        "    col2 (str): Name of the second column (y-axis)\n",
        "    sample_size (int): Number of points to plot (default 10000)\n",
        "    \"\"\"\n",
        "    # Sample the dataframe if it's larger than sample_size\n",
        "    if len(df) > sample_size:\n",
        "        df_sample = df.sample(n=sample_size, random_state=42)\n",
        "    else:\n",
        "        df_sample = df\n",
        "\n",
        "    # Sort the dataframe by x-axis values\n",
        "    df_sample = df_sample.sort_values(by=col1)\n",
        "\n",
        "    fig = px.scatter(df_sample,\n",
        "                    x=col1,\n",
        "                    y=col2,\n",
        "                    title=f'Loan Amount vs Charge Off Amount')\n",
        "\n",
        "    # Update marker size and opacity\n",
        "    fig.update_traces(marker=dict(size=5,\n",
        "                                opacity=0.6))\n",
        "\n",
        "    # Improve the layout\n",
        "    fig.update_layout(\n",
        "        xaxis_title=col1,\n",
        "        yaxis_title=col2,\n",
        "        width = 1300,\n",
        "        height = 600\n",
        "    )\n",
        "\n",
        "    fig.show()"
      ],
      "metadata": {
        "id": "sWbkJRdb5F3h"
      },
      "execution_count": null,
      "outputs": []
    },
    {
      "cell_type": "code",
      "source": [
        "# Can change edit this to be any column names in the data frame for visualization:\n",
        "# plot_3d_scatter(df, col1, col2, col3):\n",
        "# plot_2d_scatter(df, col1, col2)"
      ],
      "metadata": {
        "id": "frLxZzeL5INe"
      },
      "execution_count": null,
      "outputs": []
    },
    {
      "cell_type": "code",
      "source": [
        "# Map industry code to the description of the industry\n",
        "industry_mapping = {\n",
        "    11: \"Agriculture, forestry, fishing and hunting\",\n",
        "    21: \"Mining, quarrying, and oil/gas\",\n",
        "    22: \"Utilities\",\n",
        "    23: \"Construction\",\n",
        "    31: \"Manufacturing\",  # Note: This covers 31-33\n",
        "    42: \"Wholesale trade\",\n",
        "    44: \"Retail trade\",   # Note: This covers 44-45\n",
        "    48: \"Transportation/warehousing\", # Note: This covers 48-49\n",
        "    51: \"Information\",\n",
        "    52: \"Finance and insurance\",\n",
        "    53: \"Real estate\",\n",
        "    54: \"Professional/scientific services\",\n",
        "    55: \"Management of companies\",\n",
        "    56: \"Administrative and support\",\n",
        "    61: \"Educational services\",\n",
        "    62: \"Healthcare and social assistance\",\n",
        "    71: \"Arts and recreation\",\n",
        "    72: \"Accommodation and food\",\n",
        "    81: \"Other services\",\n",
        "    92: \"Public administration\"\n",
        "}\n",
        "\n",
        "# Create industry description column\n",
        "df['INDUSTRY_DESC'] = df['INDUSTRY_ID'].astype(str).str[:2].astype(int).map(industry_mapping)\n",
        "\n",
        "df_filtered = df[df['APPROVAL_YEAR'] >= 2008]\n",
        "\n",
        "# Create the box plot\n",
        "fig = px.box(df_filtered,\n",
        "             x='INDUSTRY_DESC',\n",
        "             y='CHARGE_OFF_AMOUNT',\n",
        "             title='Distribution of Charge-off Amounts by Industry',\n",
        "             labels={\n",
        "                 'INDUSTRY_DESC': 'Industry',\n",
        "                 'CHARGE_OFF_AMOUNT': 'Charge-off Amount ($)'\n",
        "             })\n",
        "\n",
        "# Customize the layout\n",
        "fig.update_layout(\n",
        "    showlegend=False,\n",
        "    xaxis_tickangle=-45,  # Rotate x-axis labels for better readability\n",
        "    height=800,  # Make plot taller to accommodate labels\n",
        "    width=1200,\n",
        "    margin=dict(b=150),  # Add bottom margin for rotated labels\n",
        "    yaxis=dict(\n",
        "        title_standoff=25,  # Add some space between y-axis title and values\n",
        "        tickformat='$,.0f'  # Format y-axis as currency\n",
        "    )\n",
        ")\n",
        "fig.show()"
      ],
      "metadata": {
        "id": "qPWgFYcz5Zp4"
      },
      "execution_count": null,
      "outputs": []
    },
    {
      "cell_type": "code",
      "source": [
        "def plot_industry_stats(df, year_cutoff=2008):\n",
        "    \"\"\"\n",
        "    Calculate and display statistics for charge-off amounts by industry.\n",
        "\n",
        "    Parameters:\n",
        "    df (pandas.DataFrame): DataFrame containing loan data\n",
        "    year_cutoff (int): Starting year for data analysis (default: 2008)\n",
        "\n",
        "    Returns:\n",
        "    pandas.DataFrame: DataFrame containing the calculated statistics\n",
        "    \"\"\"\n",
        "    # Filter data\n",
        "    df_filtered = df[df['APPROVAL_YEAR'] >= year_cutoff]\n",
        "\n",
        "    # Calculate statistics by industry\n",
        "    stats = df_filtered.groupby('INDUSTRY_DESC')['CHARGE_OFF_AMOUNT'].agg([\n",
        "        ('count', 'count'),\n",
        "        ('min', 'min'),\n",
        "        ('q1', lambda x: x.quantile(0.25)),\n",
        "        ('median', 'median'),\n",
        "        ('q3', lambda x: x.quantile(0.75)),\n",
        "        ('max', 'max'),\n",
        "        ('mean', 'mean'),\n",
        "        ('std', 'std')  # Added standard deviation\n",
        "    ]).round(2)\n",
        "\n",
        "    # Calculate IQR\n",
        "    stats['iqr'] = stats['q3'] - stats['q1']\n",
        "\n",
        "    # Reorder columns to a more logical sequence\n",
        "    stats = stats[['count', 'min', 'q1', 'median', 'mean', 'q3', 'max', 'std', 'iqr']]\n",
        "\n",
        "    # Sort by median charge-off amount to see industries from highest to lowest risk\n",
        "    stats = stats.sort_values('median', ascending=False)\n",
        "\n",
        "    # Format currency columns\n",
        "    currency_cols = ['min', 'q1', 'median', 'mean', 'q3', 'max', 'std', 'iqr']\n",
        "    for col in currency_cols:\n",
        "        stats[col] = stats[col].apply(lambda x: f\"${x:,.2f}\")\n",
        "\n",
        "    print(f\"\\nCharge-off Statistics by Industry ({year_cutoff}-Present):\")\n",
        "    print(\"\\nNumber of entries per industry:\")\n",
        "    print(stats['count'].sort_values(ascending=False))\n",
        "    print(\"\\nDetailed statistics:\")\n",
        "    print(stats)\n",
        "\n",
        "    return stats"
      ],
      "metadata": {
        "id": "Ty_t7fES5gDU"
      },
      "execution_count": null,
      "outputs": []
    },
    {
      "cell_type": "code",
      "source": [
        "statistics = plot_industry_stats(df, year_cutoff=2008)"
      ],
      "metadata": {
        "id": "pjsi3DO05hyS"
      },
      "execution_count": null,
      "outputs": []
    },
    {
      "cell_type": "code",
      "source": [
        "def plot_loan_default_histogram(df):\n",
        "    \"\"\"\n",
        "    Create a dual histogram comparing charge-off amounts for short vs long term loans,\n",
        "    excluding the first bin.\n",
        "\n",
        "    Parameters:\n",
        "    df (pandas.DataFrame): Input DataFrame with TERM and charge-off amount columns\n",
        "    \"\"\"\n",
        "    # Create loan category groups\n",
        "    short_term = df[df['TERM'] < 60]['CHARGE_OFF_AMOUNT']\n",
        "    long_term = df[df['TERM'] > 120]['CHARGE_OFF_AMOUNT']\n",
        "\n",
        "    # Calculate the bin size to exclude the first bin\n",
        "    max_value = max(short_term.max(), long_term.max())\n",
        "    bin_size = max_value / 50  # Using 50 bins\n",
        "\n",
        "    # Filter out values close to 0\n",
        "    short_term = short_term[short_term > bin_size]\n",
        "    long_term = long_term[long_term > bin_size]\n",
        "\n",
        "    # Create the figure\n",
        "    fig = go.Figure()\n",
        "\n",
        "    # Add histogram traces for each loan category\n",
        "    fig.add_trace(go.Histogram(\n",
        "        x=short_term,\n",
        "        name='Short Term (<60 months)',\n",
        "        marker_color='red',\n",
        "        opacity=0.75,\n",
        "        nbinsx=100\n",
        "        )\n",
        "    )\n",
        "\n",
        "    fig.add_trace(go.Histogram(\n",
        "        x=long_term,\n",
        "        name='Long Term (>120 months)',\n",
        "        marker_color='blue',\n",
        "        opacity=0.75,\n",
        "        nbinsx=100\n",
        "        )\n",
        "    )\n",
        "\n",
        "    # Update the layout\n",
        "    fig.update_layout(\n",
        "        title='Distribution of Charge-off Amounts: Short vs Long Term Loans',\n",
        "        xaxis_title='Charge-off Amount',\n",
        "        yaxis_title='Number of Loans',\n",
        "        barmode='group',\n",
        "        bargap=0.1,\n",
        "        bargroupgap=0.1\n",
        "    )\n",
        "\n",
        "\n",
        "    # Force x-axis to start at first bin\n",
        "    # fig.update_xaxes(range=[0, max_value])\n",
        "\n",
        "    fig.show()"
      ],
      "metadata": {
        "id": "s1BVpBq-5jJ4"
      },
      "execution_count": null,
      "outputs": []
    },
    {
      "cell_type": "code",
      "source": [
        "plot_loan_default_histogram(df)"
      ],
      "metadata": {
        "id": "eHwUXtpY5kSQ"
      },
      "execution_count": null,
      "outputs": []
    },
    {
      "cell_type": "code",
      "source": [
        "# Create two groups for short-term and long-term loans\n",
        "short_term = df[df['LOAN_AMOUNT'] < 1000000]['CHARGE_OFF_AMOUNT']\n",
        "long_term = df[df['LOAN_AMOUNT'] > 1000000]['CHARGE_OFF_AMOUNT']\n",
        "\n",
        "# Mann-Whitney U test\n",
        "statistic, p_value = stats.mannwhitneyu(short_term, long_term, alternative='two-sided')\n",
        "print(f'Mann-Whitney U test p-value: {p_value}')\n",
        "\n",
        "# Also calculate medians for interpretation\n",
        "print(f'Short-term median: {np.median(short_term)}')\n",
        "print(f'Long-term median: {np.median(long_term)}')\n",
        "\n",
        "# T-test\n",
        "t_stat, t_p_value = stats.ttest_ind(short_term, long_term)\n",
        "print(f't-test p-value: {t_p_value}')\n",
        "\n",
        "# Kolmogorov-Smirnov test\n",
        "ks_stat, ks_p = stats.ks_2samp(short_term, long_term)\n",
        "print(f\"Kolmogorov-Smirnov test p-value: {ks_p:.2e}\")"
      ],
      "metadata": {
        "id": "srEpigRd5nsR"
      },
      "execution_count": null,
      "outputs": []
    },
    {
      "cell_type": "code",
      "source": [],
      "metadata": {
        "id": "_hWETiPm5odt"
      },
      "execution_count": null,
      "outputs": []
    }
  ]
}